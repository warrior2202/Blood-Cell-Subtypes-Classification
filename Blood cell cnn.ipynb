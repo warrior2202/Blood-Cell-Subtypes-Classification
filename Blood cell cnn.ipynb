{
 "cells": [
  {
   "cell_type": "code",
   "execution_count": 2,
   "metadata": {},
   "outputs": [
    {
     "name": "stderr",
     "output_type": "stream",
     "text": [
      "Using TensorFlow backend.\n"
     ]
    },
    {
     "name": "stdout",
     "output_type": "stream",
     "text": [
      "WARNING:tensorflow:From D:\\Users\\LENOVO\\Anaconda3\\lib\\site-packages\\tensorflow_core\\python\\compat\\v2_compat.py:88: disable_resource_variables (from tensorflow.python.ops.variable_scope) is deprecated and will be removed in a future version.\n",
      "Instructions for updating:\n",
      "non-resource variables are not supported in the long term\n"
     ]
    }
   ],
   "source": [
    "import numpy as np\n",
    "import math, cv2, os\n",
    "import matplotlib.pyplot as plt\n",
    "from keras.preprocessing.image import ImageDataGenerator\n",
    "# import tensorflow as tf\n",
    "import tensorflow.compat.v1 as tf\n",
    "tf.disable_v2_behavior()\n",
    "from tensorflow.compat.v1 import keras\n",
    "from keras.models import Sequential\n",
    "from keras.layers import Conv2D\n",
    "from keras.layers import MaxPooling2D\n",
    "from keras.layers import Flatten\n",
    "from keras.layers import Dense\n",
    "from keras.layers import Dropout\n"
   ]
  },
  {
   "cell_type": "code",
   "execution_count": 3,
   "metadata": {},
   "outputs": [],
   "source": [
    "#cpu - gpu configuration\n",
    "config = tf.compat.v1.ConfigProto( device_count = {'GPU': 0 , 'CPU': 56} ) \n",
    "# sess = tf.Session(config=config) \n",
    "sess = tf.compat.v1.Session(config=config)\n",
    "keras.backend.set_session(sess)\n"
   ]
  },
  {
   "cell_type": "code",
   "execution_count": 4,
   "metadata": {},
   "outputs": [
    {
     "ename": "SyntaxError",
     "evalue": "EOL while scanning string literal (<ipython-input-4-6617a05607ac>, line 1)",
     "output_type": "error",
     "traceback": [
      "\u001b[1;36m  File \u001b[1;32m\"<ipython-input-4-6617a05607ac>\"\u001b[1;36m, line \u001b[1;32m1\u001b[0m\n\u001b[1;33m    train_dataset_path=\"TRAIN\\\"\u001b[0m\n\u001b[1;37m                                 ^\u001b[0m\n\u001b[1;31mSyntaxError\u001b[0m\u001b[1;31m:\u001b[0m EOL while scanning string literal\n"
     ]
    }
   ],
   "source": [
    "train_dataset_path=\"TRAIN\\\"  \n",
    "test_dataset_path=\"TEST\\\"    \n",
    "in_dir=r'give your path here' \n",
    "CATEGORIES    = ['EOSINOPHIL','LYMPHOCYTE','MONOCYTE','NEUTROPHIL'] "
   ]
  },
  {
   "cell_type": "code",
   "execution_count": 5,
   "metadata": {},
   "outputs": [
    {
     "ename": "NameError",
     "evalue": "name 'in_dir' is not defined",
     "output_type": "error",
     "traceback": [
      "\u001b[1;31m---------------------------------------------------------------------------\u001b[0m",
      "\u001b[1;31mNameError\u001b[0m                                 Traceback (most recent call last)",
      "\u001b[1;32m<ipython-input-5-de435f8f0411>\u001b[0m in \u001b[0;36m<module>\u001b[1;34m\u001b[0m\n\u001b[0;32m      8\u001b[0m \u001b[0mplt\u001b[0m\u001b[1;33m.\u001b[0m\u001b[0mfigure\u001b[0m\u001b[1;33m(\u001b[0m\u001b[0mfigsize\u001b[0m\u001b[1;33m=\u001b[0m\u001b[1;33m(\u001b[0m\u001b[1;36m15\u001b[0m\u001b[1;33m,\u001b[0m\u001b[1;36m8\u001b[0m\u001b[1;33m)\u001b[0m\u001b[1;33m)\u001b[0m\u001b[1;33m\u001b[0m\u001b[1;33m\u001b[0m\u001b[0m\n\u001b[0;32m      9\u001b[0m \u001b[0mplt\u001b[0m\u001b[1;33m.\u001b[0m\u001b[0msubplot\u001b[0m\u001b[1;33m(\u001b[0m\u001b[1;36m221\u001b[0m\u001b[1;33m)\u001b[0m\u001b[1;33m\u001b[0m\u001b[1;33m\u001b[0m\u001b[0m\n\u001b[1;32m---> 10\u001b[1;33m \u001b[0mplt\u001b[0m\u001b[1;33m.\u001b[0m\u001b[0mtitle\u001b[0m\u001b[1;33m(\u001b[0m\u001b[1;34m'Lymphocyte'\u001b[0m\u001b[1;33m)\u001b[0m\u001b[1;33m;\u001b[0m \u001b[0mplt\u001b[0m\u001b[1;33m.\u001b[0m\u001b[0maxis\u001b[0m\u001b[1;33m(\u001b[0m\u001b[1;34m'off'\u001b[0m\u001b[1;33m)\u001b[0m\u001b[1;33m;\u001b[0m \u001b[0mplotImage\u001b[0m\u001b[1;33m(\u001b[0m\u001b[0mos\u001b[0m\u001b[1;33m.\u001b[0m\u001b[0mpath\u001b[0m\u001b[1;33m.\u001b[0m\u001b[0mjoin\u001b[0m\u001b[1;33m(\u001b[0m\u001b[0min_dir\u001b[0m\u001b[1;33m,\u001b[0m \u001b[1;34m'TRAIN/LYMPHOCYTE/_0_204.jpeg'\u001b[0m\u001b[1;33m)\u001b[0m\u001b[1;33m)\u001b[0m\u001b[1;33m\u001b[0m\u001b[1;33m\u001b[0m\u001b[0m\n\u001b[0m",
      "\u001b[1;31mNameError\u001b[0m: name 'in_dir' is not defined"
     ]
    },
    {
     "data": {
      "image/png": "[encoded data removed]",
      "text/plain": [
       "<Figure size 1080x576 with 1 Axes>"
      ]
     },
     "metadata": {
      "needs_background": "light"
     },
     "output_type": "display_data"
    }
   ],
   "source": [
    "def plotImage(image_path):\n",
    "    image = cv2.imread(image_path)\n",
    "    image = image[:,:,[2,1,0]]\n",
    "    image = image.astype('float32')/255\n",
    "    plt.imshow(image)\n",
    "    return\n",
    "\n",
    "plt.figure(figsize=(15,8))\n",
    "plt.subplot(221)\n",
    "plt.title('Lymphocyte'); plt.axis('off'); plotImage(os.path.join(in_dir, 'TRAIN/LYMPHOCYTE/_0_204.jpeg'))"
   ]
  },
  {
   "cell_type": "code",
   "execution_count": 38,
   "metadata": {},
   "outputs": [
    {
     "name": "stdout",
     "output_type": "stream",
     "text": [
      "Training samples:\n",
      "Cell: EOSINOPHIL       num samples: 2497\n",
      "Cell: LYMPHOCYTE       num samples: 2483\n",
      "Cell: MONOCYTE         num samples: 2478\n",
      "Cell: NEUTROPHIL       num samples: 2499\n",
      "Total training samples: 9957\n",
      "\n",
      "testing samples\n",
      "cell:EOSINOPHIL      num samples : 623\n",
      "cell:LYMPHOCYTE      num samples : 620\n",
      "cell:MONOCYTE        num samples : 620\n",
      "cell:NEUTROPHIL      num samples : 624\n",
      "total testing sample: 2487\n",
      "\n"
     ]
    }
   ],
   "source": [
    "print('Training samples:')\n",
    "train_dir = os.path.join(in_dir, \"TRAIN\")  \n",
    "num_samples = 0  \n",
    "for cell in os.listdir(train_dir):\n",
    "    num_cells = len(os.listdir(os.path.join(train_dir, cell))) \n",
    "    num_samples += num_cells\n",
    "    print('Cell: {:15s}  num samples: {:d}'.format(cell, num_cells))\n",
    "print('Total training samples: {:d}\\n'.format(num_samples)) \n",
    "\n",
    "#for testing data\n",
    "print(\"testing samples\")\n",
    "num_samples=0\n",
    "test_dir = os.path.join(in_dir, \"TEST\")\n",
    "for cell in os.listdir(test_dir):\n",
    "  num_cells=len(os.listdir(os.path.join(test_dir,cell)))\n",
    "  num_samples+=num_cells\n",
    "  print(\"cell:{:15s} num samples : {:d}\".format(cell,num_cells))\n",
    "print(\"total testing sample: {:d}\\n\".format(num_samples))  "
   ]
  },
  {
   "cell_type": "code",
   "execution_count": 12,
   "metadata": {},
   "outputs": [],
   "source": [
    "\n",
    "train_datagen = ImageDataGenerator(rescale = 1./255) \n",
    "\n",
    "#if we have less features data and we want to create more dataset for training purpose\n",
    "#so karas gives a method that we can do rescale,shaear_range,zoom_range,and horizontal and more.....\n",
    "\n"
   ]
  },
  {
   "cell_type": "code",
   "execution_count": 13,
   "metadata": {},
   "outputs": [],
   "source": [
    "test_datagen = ImageDataGenerator(rescale = 1./255)\n"
   ]
  },
  {
   "cell_type": "code",
   "execution_count": 21,
   "metadata": {},
   "outputs": [
    {
     "name": "stdout",
     "output_type": "stream",
     "text": [
      "Found 9957 images belonging to 4 classes.\n"
     ]
    }
   ],
   "source": [
    "\n",
    "\n",
    "\n",
    "training_set = train_datagen.flow_from_directory(os.path.join(in_dir, \"TRAIN\"),  \n",
    "                                                 target_size = (64, 64), \n",
    "                                                 batch_size = 32, \n",
    "                                                 color_mode='rgb', \n",
    "                                                 shuffle=True, \n",
    "                                                 seed=None, \n",
    "                                                 class_mode = 'categorical') \n"
   ]
  },
  {
   "cell_type": "code",
   "execution_count": 22,
   "metadata": {
    "scrolled": true
   },
   "outputs": [
    {
     "name": "stdout",
     "output_type": "stream",
     "text": [
      "Found 2487 images belonging to 4 classes.\n"
     ]
    }
   ],
   "source": [
    "test_set = train_datagen.flow_from_directory(os.path.join(in_dir, \"TEST\"),  \n",
    "                                                 target_size = (64, 64), \n",
    "                                                 batch_size = 32, \n",
    "                                                 color_mode='rgb', \n",
    "                                                 shuffle=True, \n",
    "                                                 seed=None, \n",
    "                                                 class_mode = 'categorical') "
   ]
  },
  {
   "cell_type": "code",
   "execution_count": 23,
   "metadata": {},
   "outputs": [],
   "source": [
    "# Initialising the CNN\n",
    "classifier = Sequential()\n",
    "\n",
    "# Step 1 - Convolution\n",
    "\n",
    "classifier.add(Conv2D(filters=32, kernel_size=(3, 3), input_shape = (64, 64, 3), activation = 'relu'))\n",
    "\n",
    "\n",
    "# Step 2 - Pooling\n",
    "classifier.add(MaxPooling2D(pool_size = (2, 2)))\n",
    "classifier.add(Dropout(0.20))\n",
    "\n",
    "classifier.add(Conv2D(64, (3, 3), activation = 'relu'))\n",
    "classifier.add(MaxPooling2D(pool_size = (2, 2)))\n",
    "classifier.add(Dropout(0.20)) \n",
    "\n",
    "# Adding Third convolutional layer\n",
    "classifier.add(Conv2D(128, (3, 3), activation = 'relu'))\n",
    "classifier.add(MaxPooling2D(pool_size = (2, 2)))\n",
    "classifier.add(Dropout(0.20)) #randomly droping out 20% of the weights of this layer \n",
    "\n",
    "# Step 3 - Flattening\n",
    "classifier.add(Flatten())\n",
    "\n",
    "\n",
    "# Step 4 - Full connection\n",
    "classifier.add(Dense(units = 64, activation = 'relu'))\n",
    "classifier.add(Dense(units = 128, activation = 'relu'))\n",
    "classifier.add(Dense(units = 64, activation = 'relu'))\n",
    "classifier.add(Dense(units = 4, activation = 'softmax'))\n",
    "\n"
   ]
  },
  {
   "cell_type": "code",
   "execution_count": 24,
   "metadata": {},
   "outputs": [],
   "source": [
    "# Compiling the CNN\n",
    "classifier.compile(optimizer = 'adam', loss = 'categorical_crossentropy', metrics = ['accuracy'])\n"
   ]
  },
  {
   "cell_type": "code",
   "execution_count": 25,
   "metadata": {},
   "outputs": [
    {
     "name": "stdout",
     "output_type": "stream",
     "text": [
      "Epoch 1/20\n",
      "100/100 [==============================] - 148s 1s/step - loss: 1.3899 - accuracy: 0.2506 - val_loss: 1.3846 - val_accuracy: 0.2548\n",
      "Epoch 2/20\n",
      "100/100 [==============================] - 91s 909ms/step - loss: 1.3865 - accuracy: 0.2362 - val_loss: 1.3851 - val_accuracy: 0.2507\n",
      "Epoch 3/20\n",
      "100/100 [==============================] - 93s 935ms/step - loss: 1.3866 - accuracy: 0.2506 - val_loss: 1.3900 - val_accuracy: 0.2523\n",
      "Epoch 4/20\n",
      "100/100 [==============================] - 33s 326ms/step - loss: 1.3865 - accuracy: 0.2419 - val_loss: 1.3880 - val_accuracy: 0.2495\n",
      "Epoch 5/20\n",
      "100/100 [==============================] - 32s 317ms/step - loss: 1.3869 - accuracy: 0.2436 - val_loss: 1.3863 - val_accuracy: 0.2567\n",
      "Epoch 6/20\n",
      "100/100 [==============================] - 32s 319ms/step - loss: 1.3869 - accuracy: 0.2353 - val_loss: 1.3837 - val_accuracy: 0.2849\n",
      "Epoch 7/20\n",
      "100/100 [==============================] - 33s 325ms/step - loss: 1.3864 - accuracy: 0.2478 - val_loss: 1.3865 - val_accuracy: 0.2532\n",
      "Epoch 8/20\n",
      "100/100 [==============================] - 33s 333ms/step - loss: 1.3871 - accuracy: 0.2525 - val_loss: 1.3881 - val_accuracy: 0.2476\n",
      "Epoch 9/20\n",
      "100/100 [==============================] - 31s 308ms/step - loss: 1.3863 - accuracy: 0.2506 - val_loss: 1.3837 - val_accuracy: 0.2545\n",
      "Epoch 10/20\n",
      "100/100 [==============================] - 32s 319ms/step - loss: 1.3868 - accuracy: 0.2463 - val_loss: 1.3853 - val_accuracy: 0.2491\n",
      "Epoch 11/20\n",
      "100/100 [==============================] - 32s 324ms/step - loss: 1.3864 - accuracy: 0.2587 - val_loss: 1.3867 - val_accuracy: 0.2498\n",
      "Epoch 12/20\n",
      "100/100 [==============================] - 32s 319ms/step - loss: 1.3866 - accuracy: 0.2446 - val_loss: 1.3866 - val_accuracy: 0.2548\n",
      "Epoch 13/20\n",
      "100/100 [==============================] - 32s 315ms/step - loss: 1.3867 - accuracy: 0.2496 - val_loss: 1.3888 - val_accuracy: 0.2454\n",
      "Epoch 14/20\n",
      "100/100 [==============================] - 32s 317ms/step - loss: 1.3863 - accuracy: 0.2509 - val_loss: 1.3917 - val_accuracy: 0.2548\n",
      "Epoch 15/20\n",
      "100/100 [==============================] - 32s 324ms/step - loss: 1.3865 - accuracy: 0.2519 - val_loss: 1.3837 - val_accuracy: 0.2489\n",
      "Epoch 16/20\n",
      "100/100 [==============================] - 31s 312ms/step - loss: 1.3864 - accuracy: 0.2422 - val_loss: 1.3874 - val_accuracy: 0.2473\n",
      "Epoch 17/20\n",
      "100/100 [==============================] - 32s 318ms/step - loss: 1.3865 - accuracy: 0.2465 - val_loss: 1.3868 - val_accuracy: 0.2435\n",
      "Epoch 18/20\n",
      "100/100 [==============================] - 33s 333ms/step - loss: 1.3866 - accuracy: 0.2484 - val_loss: 1.3880 - val_accuracy: 0.2486\n",
      "Epoch 19/20\n",
      "100/100 [==============================] - 31s 310ms/step - loss: 1.3863 - accuracy: 0.2681 - val_loss: 1.3932 - val_accuracy: 0.2479\n",
      "Epoch 20/20\n",
      "100/100 [==============================] - 30s 302ms/step - loss: 1.3870 - accuracy: 0.2488 - val_loss: 1.3856 - val_accuracy: 0.2560\n"
     ]
    }
   ],
   "source": [
    "history=classifier.fit_generator(training_set,\n",
    "                         steps_per_epoch = 100,\n",
    "                         epochs = 20,\n",
    "                         validation_data = test_set,\n",
    "                         validation_steps =100)"
   ]
  },
  {
   "cell_type": "code",
   "execution_count": 26,
   "metadata": {},
   "outputs": [
    {
     "data": {
      "image/png": "[encoded data removed]",
      "text/plain": [
       "<Figure size 432x288 with 1 Axes>"
      ]
     },
     "metadata": {
      "needs_background": "light"
     },
     "output_type": "display_data"
    }
   ],
   "source": [
    "plt.plot(history.history['accuracy']) \n",
    "plt.plot(history.history['val_accuracy']) \n",
    "plt.title('model accuracy') \n",
    "plt.ylabel('accuracy')\n",
    "plt.xlabel('epoch') \n",
    "plt.legend(['train', 'test'], loc='upper left')\n",
    "                                                 \n",
    "plt.show() # to show the plot"
   ]
  },
  {
   "cell_type": "code",
   "execution_count": 27,
   "metadata": {},
   "outputs": [
    {
     "data": {
      "image/png": "[encoded data removed]",
      "text/plain": [
       "<Figure size 432x288 with 1 Axes>"
      ]
     },
     "metadata": {
      "needs_background": "light"
     },
     "output_type": "display_data"
    }
   ],
   "source": [
    "plt.plot(history.history['loss'])\n",
    "plt.plot(history.history['val_loss'])\n",
    "plt.title('model loss') \n",
    "plt.ylabel('loss') \n",
    "plt.xlabel('epoch')  \n",
    "plt.legend(['train', 'test'], loc='upper left') \n",
    "                                                 \n",
    "plt.show() # to show the plot"
   ]
  },
  {
   "cell_type": "code",
   "execution_count": 28,
   "metadata": {},
   "outputs": [],
   "source": [
    "\n",
    "#this code makes pickle file\n",
    "import pickle\n",
    "filename = 'Blood_cell.pkl'\n",
    "model_pkl = open(filename, 'wb') \n",
    "pickle.dump(classifier, model_pkl)\n",
    "# Close the pickle instances\n",
    "model_pkl.close()   "
   ]
  },
  {
   "cell_type": "code",
   "execution_count": 29,
   "metadata": {},
   "outputs": [],
   "source": [
    "\n",
    "import pickle\n",
    "digit_detect_pkl=open('Blood_cell.pkl','rb') #opening our pickle file of model in \"rb\" i.e. \"rb\" mode opens the file in binary format for reading.\n",
    "model = pickle.load(digit_detect_pkl) #loading our pickle object using .load method of pickle.\"\"\""
   ]
  },
  {
   "cell_type": "code",
   "execution_count": 30,
   "metadata": {},
   "outputs": [],
   "source": [
    "y_pred = model.predict_generator(test_set) \n",
    "y_pred=y_pred.argmax(axis=-1) "
   ]
  },
  {
   "cell_type": "code",
   "execution_count": 31,
   "metadata": {},
   "outputs": [],
   "source": [
    "y_true = test_set.classes "
   ]
  },
  {
   "cell_type": "code",
   "execution_count": 32,
   "metadata": {},
   "outputs": [
    {
     "data": {
      "text/plain": [
       "array([0, 0, 0, ..., 3, 3, 3])"
      ]
     },
     "execution_count": 32,
     "metadata": {},
     "output_type": "execute_result"
    }
   ],
   "source": [
    "y_true"
   ]
  },
  {
   "cell_type": "code",
   "execution_count": 33,
   "metadata": {},
   "outputs": [],
   "source": [
    "from sklearn.metrics import confusion_matrix,accuracy_score #importing confusion_matrix and accuracy_score from sklearn.metrics\n"
   ]
  },
  {
   "cell_type": "code",
   "execution_count": 34,
   "metadata": {},
   "outputs": [
    {
     "name": "stdout",
     "output_type": "stream",
     "text": [
      "[[623   0   0   0]\n",
      " [620   0   0   0]\n",
      " [620   0   0   0]\n",
      " [624   0   0   0]]\n"
     ]
    }
   ],
   "source": [
    "cm=confusion_matrix(y_true,y_pred) #confusion matrix takes 2 arguments i.e. actual and predicted values\n",
    "print(cm)"
   ]
  },
  {
   "cell_type": "code",
   "execution_count": 35,
   "metadata": {},
   "outputs": [
    {
     "name": "stdout",
     "output_type": "stream",
     "text": [
      "0.2505026135906715\n"
     ]
    }
   ],
   "source": [
    "print(accuracy_score(y_true,y_pred)) #accuracy"
   ]
  },
  {
   "cell_type": "code",
   "execution_count": null,
   "metadata": {},
   "outputs": [],
   "source": []
  }
 ],
 "metadata": {
  "kernelspec": {
   "display_name": "Python 3",
   "language": "python",
   "name": "python3"
  },
  "language_info": {
   "codemirror_mode": {
    "name": "ipython",
    "version": 3
   },
   "file_extension": ".py",
   "mimetype": "text/x-python",
   "name": "python",
   "nbconvert_exporter": "python",
   "pygments_lexer": "ipython3",
   "version": "3.7.4"
  }
 },
 "nbformat": 4,
 "nbformat_minor": 2
}
